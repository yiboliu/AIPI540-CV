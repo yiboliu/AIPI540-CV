{
  "nbformat": 4,
  "nbformat_minor": 0,
  "metadata": {
    "colab": {
      "provenance": [],
      "machine_shape": "hm",
      "gpuType": "A100"
    },
    "kernelspec": {
      "name": "python3",
      "display_name": "Python 3"
    },
    "language_info": {
      "name": "python"
    },
    "accelerator": "GPU"
  },
  "cells": [
    {
      "cell_type": "code",
      "execution_count": null,
      "metadata": {
        "colab": {
          "base_uri": "https://localhost:8080/"
        },
        "id": "HH436ri9s15f",
        "outputId": "149eb7c4-4a95-4bbb-8114-c4ed4ec99be9"
      },
      "outputs": [
        {
          "output_type": "stream",
          "name": "stdout",
          "text": [
            "Done\n"
          ]
        }
      ],
      "source": [
        "from zipfile import ZipFile\n",
        "file_name = 'test.zip'\n",
        "\n",
        "with ZipFile(file_name, 'r') as zipped:\n",
        "  zipped.extractall()\n",
        "  print('Done')"
      ]
    },
    {
      "cell_type": "code",
      "source": [
        "import cv2\n",
        "import numpy as np\n",
        "import matplotlib.pyplot as plt\n",
        "from google.colab.patches import cv2_imshow\n",
        "import pickle\n",
        "import os"
      ],
      "metadata": {
        "id": "X8-58MSHv51f"
      },
      "execution_count": 15,
      "outputs": []
    },
    {
      "cell_type": "code",
      "source": [
        "def predict_img_svm(img_path, new_img_name, dest_folder):\n",
        "    # load the model file\n",
        "    with open('svm_model.pkl', 'rb') as f:\n",
        "        loaded_model = pickle.load(f)\n",
        "    # read the image\n",
        "    img = cv2.imread(img_path)\n",
        "    # Use orb object to detect and compute descriptors and keypoints\n",
        "    orb = cv2.ORB_create(scoreType=cv2.ORB_FAST_SCORE, nlevels=1)\n",
        "    keypoints, descriptors = orb.detectAndCompute(img, None)\n",
        "    # use the descriptors as the features to predict the label of keypoints\n",
        "    preds = loaded_model.predict(descriptors)\n",
        "    # draw keypoints that are predicted to be 1 (in a bbox, or on wheat)\n",
        "    for kpt, pred in zip(keypoints, preds):\n",
        "        if pred == 1:\n",
        "            img = cv2.drawKeypoints(img, [kpt], None, color=(0, 255, 0))\n",
        "    cv2.imwrite(os.path.join(dest_folder, new_img_name), img)"
      ],
      "metadata": {
        "id": "x93HTSONt-8R"
      },
      "execution_count": 33,
      "outputs": []
    },
    {
      "cell_type": "code",
      "source": [
        "!python -m pip install 'git+https://github.com/facebookresearch/detectron2.git'"
      ],
      "metadata": {
        "id": "cw3yh7rUDUtx"
      },
      "execution_count": null,
      "outputs": []
    },
    {
      "cell_type": "code",
      "source": [
        "import torch\n",
        "import detectron2\n",
        "from detectron2.engine.defaults import DefaultPredictor\n",
        "from detectron2.data.transforms import ResizeTransform\n",
        "from detectron2.data import DatasetCatalog, MetadataCatalog\n",
        "from detectron2.config import get_cfg\n",
        "from detectron2 import model_zoo\n",
        "from detectron2.evaluation import COCOEvaluator\n",
        "from detectron2.utils.visualizer import Visualizer, ColorMode\n",
        "import cv2\n",
        "from google.colab.patches import cv2_imshow"
      ],
      "metadata": {
        "id": "hoQo25uKLJn-"
      },
      "execution_count": null,
      "outputs": []
    },
    {
      "cell_type": "code",
      "source": [
        "TORCH_VERSION = \".\".join(torch.__version__.split(\".\")[:2])\n",
        "CUDA_VERSION = torch.__version__.split(\"+\")[-1]\n",
        "print(\"torch: \", TORCH_VERSION, \"; cuda: \", CUDA_VERSION)"
      ],
      "metadata": {
        "colab": {
          "base_uri": "https://localhost:8080/"
        },
        "id": "OKrqxPBmD49W",
        "outputId": "83d50e67-85a7-4ebc-949b-8574a89a4508"
      },
      "execution_count": null,
      "outputs": [
        {
          "output_type": "stream",
          "name": "stdout",
          "text": [
            "torch:  2.0 ; cuda:  cu118\n"
          ]
        }
      ]
    },
    {
      "cell_type": "code",
      "source": [
        "def evaluate(image_path, model):\n",
        "  img = cv2.imread(image_path)\n",
        "  resize = ResizeTransform(new_h=256, new_w=256, h=1024, w=1024)\n",
        "  image = resize.apply_image(img)\n",
        "  return model(img)\n",
        "\n",
        "def predict_img_dl(file_path, new_img_name, dest_folder):\n",
        "  cfg = get_cfg()\n",
        "  cfg.merge_from_file(model_zoo.get_config_file(\"COCO-Detection/faster_rcnn_R_50_FPN_3x.yaml\")) # load the config\n",
        "  cfg.MODEL.WEIGHTS = 'model_final.pth'  # load the model\n",
        "  cfg.MODEL.ROI_HEADS.NUM_CLASSES = 1 # we only have a class 'wheat'\n",
        "  cfg.MODEL.ROI_HEADS.SCORE_THRESH_TEST = 0.5   # set a custom testing threshold\n",
        "  MetadataCatalog.get(\"dataset\").thing_classes = ['wheat']\n",
        "  model = DefaultPredictor(cfg)\n",
        "\n",
        "  output = evaluate(file_path, model)\n",
        "  v = Visualizer(cv2.imread(file_path)[:, :, ::-1], metadata=MetadataCatalog.get(\"dataset\"), scale=0.5)\n",
        "\n",
        "  # Then, we call draw_instance_predictions to overlay our image with the predictions\n",
        "  v = v.draw_instance_predictions(output[\"instances\"].to(\"cpu\"))\n",
        "  cv2.imwrite(os.path.join(dest_folder, new_img_name), v.get_image())\n"
      ],
      "metadata": {
        "id": "h1iCRbqo0l7H"
      },
      "execution_count": 36,
      "outputs": []
    },
    {
      "cell_type": "code",
      "source": [
        "if not os.path.exists('svm_output'):\n",
        "  os.mkdir('svm_output')\n",
        "if not os.path.exists('dl_output'):\n",
        "  os.mkdir('dl_output')\n",
        "\n",
        "test_img_files = os.listdir('test')\n",
        "test_images = []\n",
        "\n",
        "for filename in test_img_files:\n",
        "  filepath = os.path.join('test', filename)\n",
        "  predict_img_svm(filepath, f'{filename.split(\".\")[0]}-svm.jpg', 'svm_output')\n",
        "  predict_img_dl(filepath, f'{filename.split(\".\")[0]}-dl.jpg', 'dl_output')\n"
      ],
      "metadata": {
        "id": "6SEOdKn6uooD"
      },
      "execution_count": 37,
      "outputs": []
    }
  ]
}